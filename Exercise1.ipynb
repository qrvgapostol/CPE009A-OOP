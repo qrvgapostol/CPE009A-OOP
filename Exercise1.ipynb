{
  "nbformat": 4,
  "nbformat_minor": 0,
  "metadata": {
    "colab": {
      "provenance": [],
      "authorship_tag": "ABX9TyP649ADaKiGboccbdLiW7/L",
      "include_colab_link": true
    },
    "kernelspec": {
      "name": "python3",
      "display_name": "Python 3"
    },
    "language_info": {
      "name": "python"
    }
  },
  "cells": [
    {
      "cell_type": "markdown",
      "metadata": {
        "id": "view-in-github",
        "colab_type": "text"
      },
      "source": [
        "<a href=\"https://colab.research.google.com/github/qrvgapostol/CPE009A-OOP/blob/main/Exercise1.ipynb\" target=\"_parent\"><img src=\"https://colab.research.google.com/assets/colab-badge.svg\" alt=\"Open In Colab\"/></a>"
      ]
    },
    {
      "cell_type": "markdown",
      "source": [
        "Algorithm to get the perimeter and area of a rectangle\n",
        "1.Start\n",
        "2)Input width and length of the rectangle\n",
        "3)Calculate the perimeter= perimeter=2*(length + width)\n",
        "4)Calculate the area= area=length*width\n",
        "5)Output the perimeter and area of the rectangle\n",
        "6)Stop"
      ],
      "metadata": {
        "id": "Hub1MkxoUUZf"
      }
    },
    {
      "cell_type": "code",
      "source": [
        "length=int(input(\"Enter the length of the rectangle: \"))\n",
        "width=int(input(\"Enter the width of the rectangle: \"))\n",
        "\n",
        "perimeter= 2*(length+width)\n",
        "area=length*width\n",
        "\n",
        "print(\"The perimeter of the rectangle is:\",perimeter)\n",
        "print(\"The area of the rectangle is:\",area)"
      ],
      "metadata": {
        "colab": {
          "base_uri": "https://localhost:8080/"
        },
        "id": "sjnBBQ8FVFPw",
        "outputId": "35ee839c-eb0f-4fb2-efe6-e1ca79433674"
      },
      "execution_count": 10,
      "outputs": [
        {
          "output_type": "stream",
          "name": "stdout",
          "text": [
            "Enter the length of the rectangle: 5\n",
            "Enter the width of the rectangle: 6\n",
            "The perimeter of the rectangle is: 22\n",
            "The area of the rectangle is: 30\n"
          ]
        }
      ]
    }
  ]
}