{
  "nbformat": 4,
  "nbformat_minor": 0,
  "metadata": {
    "colab": {
      "provenance": [],
      "authorship_tag": "ABX9TyMdte7b5utPsu99Bb5RVHip",
      "include_colab_link": true
    },
    "kernelspec": {
      "name": "python3",
      "display_name": "Python 3"
    },
    "language_info": {
      "name": "python"
    }
  },
  "cells": [
    {
      "cell_type": "markdown",
      "metadata": {
        "id": "view-in-github",
        "colab_type": "text"
      },
      "source": [
        "<a href=\"https://colab.research.google.com/github/qrvgapostol/CPE009A-OOP/blob/main/Apostol_Ruud_Van_Prelim_Exam.ipynb\" target=\"_parent\"><img src=\"https://colab.research.google.com/assets/colab-badge.svg\" alt=\"Open In Colab\"/></a>"
      ]
    },
    {
      "cell_type": "markdown",
      "source": [
        "Prelim Exam"
      ],
      "metadata": {
        "id": "m0N8mYAxb5sV"
      }
    },
    {
      "cell_type": "code",
      "execution_count": 18,
      "metadata": {
        "colab": {
          "base_uri": "https://localhost:8080/"
        },
        "id": "Ywn7hqJ7bw3U",
        "outputId": "c7c78092-4294-4467-d7ec-8b84ddf75d25"
      },
      "outputs": [
        {
          "output_type": "stream",
          "name": "stdout",
          "text": [
            "Enter your fullname:Ruud Van G. Apostol\n",
            "Enter your age:19\n",
            "Fullname and age: Ruud Van G. Apostol and 19\n"
          ]
        }
      ],
      "source": [
        "fullname=input(\"Enter your fullname:\")\n",
        "age=input(\"Enter your age:\")\n",
        "print(\"Fullname and age: \"+fullname +\" \"+ \"and\"+ \" \"+ age)\n"
      ]
    }
  ]
}