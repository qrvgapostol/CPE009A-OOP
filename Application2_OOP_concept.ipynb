{
  "nbformat": 4,
  "nbformat_minor": 0,
  "metadata": {
    "colab": {
      "provenance": [],
      "authorship_tag": "ABX9TyN+GFjhcBtJx2+JsGGJe1wY",
      "include_colab_link": true
    },
    "kernelspec": {
      "name": "python3",
      "display_name": "Python 3"
    },
    "language_info": {
      "name": "python"
    }
  },
  "cells": [
    {
      "cell_type": "markdown",
      "metadata": {
        "id": "view-in-github",
        "colab_type": "text"
      },
      "source": [
        "<a href=\"https://colab.research.google.com/github/qrvgapostol/CPE009A-OOP/blob/main/Application2_OOP_concept.ipynb\" target=\"_parent\"><img src=\"https://colab.research.google.com/assets/colab-badge.svg\" alt=\"Open In Colab\"/></a>"
      ]
    },
    {
      "cell_type": "markdown",
      "source": [
        "Create a class name Shapes(5 shapes)"
      ],
      "metadata": {
        "id": "NUK_wUHReEj5"
      }
    },
    {
      "cell_type": "code",
      "source": [
        "class shapes:\n",
        "  def __init__(self,sides):\n",
        "    self.__sides = sides\n",
        "\n",
        "class Triangle(shapes):\n",
        "  pass\n",
        "class Hectogon(shapes):\n",
        "  pass\n",
        "class Pentadecagon(shapes):\n",
        "  pass\n",
        "class Octacontagon(shapes):\n",
        "  pass\n",
        "class Square(shapes):\n",
        "  pass\n",
        "\n",
        "triangle = Triangle\n",
        "print(\"Triangle has 3 sides\")\n",
        "hectogon = hectogon\n",
        "print(\"Hectogon has 100 sides\")\n",
        "pentadecagon = Pentadecagon\n",
        "print(\"Pentadecagon has 15 sides\")\n",
        "octacontagon = Octacontagon\n",
        "print(\"The side of the Octacontagon is: 80\")\n",
        "square = Square\n",
        "print(\"The side of the square is: 4\")"
      ],
      "metadata": {
        "colab": {
          "base_uri": "https://localhost:8080/"
        },
        "id": "JVu18nFk44S1",
        "outputId": "121132eb-d772-4c9c-967b-05e4e2688019"
      },
      "execution_count": 33,
      "outputs": [
        {
          "output_type": "stream",
          "name": "stdout",
          "text": [
            "Triangle has 3 sides\n",
            "Hectogon has 100 sides\n",
            "Pentadecagon has 15 sides\n",
            "The side of the Octacontagon is: 80\n",
            "The side of the square is: 4\n"
          ]
        }
      ]
    }
  ]
}