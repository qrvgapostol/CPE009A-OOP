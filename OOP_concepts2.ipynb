{
  "nbformat": 4,
  "nbformat_minor": 0,
  "metadata": {
    "colab": {
      "provenance": [],
      "authorship_tag": "ABX9TyMuE3HOfQZf59dkhqCRXDVW",
      "include_colab_link": true
    },
    "kernelspec": {
      "name": "python3",
      "display_name": "Python 3"
    },
    "language_info": {
      "name": "python"
    }
  },
  "cells": [
    {
      "cell_type": "markdown",
      "metadata": {
        "id": "view-in-github",
        "colab_type": "text"
      },
      "source": [
        "<a href=\"https://colab.research.google.com/github/qrvgapostol/CPE009A-OOP/blob/main/OOP_concepts2.ipynb\" target=\"_parent\"><img src=\"https://colab.research.google.com/assets/colab-badge.svg\" alt=\"Open In Colab\"/></a>"
      ]
    },
    {
      "cell_type": "markdown",
      "source": [],
      "metadata": {
        "id": "gwTbkxgUb-Hr"
      }
    },
    {
      "cell_type": "code",
      "source": [
        "class Birds:\n",
        "  def __init__(self, bird_name):\n",
        "     self.bird_name=bird_name\n",
        "  def flying_birds(self):\n",
        "    print(f\"{self.bird_name})flies above clouds\")\n",
        "  def non_flying_birds(self):\n",
        "    print(f\"{self.bird_name}is the national bird of the philipiines\")\n",
        "\n",
        "vulture=Birds(\"Griffin Vulture\")\n",
        "crane=Birds(\"Common Crane\")\n",
        "emu=Birds(\"Emu\")\n",
        "vulture.flying_birds()\n",
        "crane.flying_birds()\n",
        "emu.flying_birds()"
      ],
      "metadata": {
        "colab": {
          "base_uri": "https://localhost:8080/"
        },
        "id": "cK5d1EobdNDz",
        "outputId": "85791fb7-5d97-4eec-8070-88346743b3ba"
      },
      "execution_count": 29,
      "outputs": [
        {
          "output_type": "stream",
          "name": "stdout",
          "text": [
            "Griffin Vulture)flies above clouds\n",
            "Common Crane)flies above clouds\n",
            "Emu)flies above clouds\n"
          ]
        }
      ]
    },
    {
      "cell_type": "markdown",
      "source": [
        "Example 1"
      ],
      "metadata": {
        "id": "n0sVKIT0dcWq"
      }
    },
    {
      "cell_type": "code",
      "source": [
        "class foo:\n",
        "  def __init__(self,a, b):\n",
        "    self.a= a\n",
        "    self.b=b\n",
        "  def add(self):\n",
        "    return self.a + self.b\n",
        "foo_object=foo(3,4)\n",
        "foo_object.add()"
      ],
      "metadata": {
        "colab": {
          "base_uri": "https://localhost:8080/"
        },
        "id": "bKHIUFqReCVa",
        "outputId": "4ed777cf-d6d8-4387-90a9-c542a2cc9625"
      },
      "execution_count": 18,
      "outputs": [
        {
          "output_type": "execute_result",
          "data": {
            "text/plain": [
              "7"
            ]
          },
          "metadata": {},
          "execution_count": 18
        }
      ]
    },
    {
      "cell_type": "markdown",
      "source": [
        "Example 2"
      ],
      "metadata": {
        "id": "2Y4MQhn4iD1U"
      }
    },
    {
      "cell_type": "code",
      "source": [
        "class Counter:\n",
        "  def __init__(self):\n",
        "    self.current+=0\n",
        "\n",
        "  def increment(self):\n",
        "    self.current+=1\n",
        "\n",
        "  def value(self):\n",
        "    return self.current\n",
        "\n",
        "  def reset(self):\n",
        "    self.current=0\n",
        "\n",
        "counter=counter()\n",
        "\n",
        "counter.increment()\n",
        "counter.increment()\n",
        "counter.increment()\n",
        "\n",
        "print(counter.value)"
      ],
      "metadata": {
        "id": "y3AdMLQ03iti"
      },
      "execution_count": null,
      "outputs": []
    },
    {
      "cell_type": "markdown",
      "source": [],
      "metadata": {
        "id": "WV6jkC4pfMHV"
      }
    },
    {
      "cell_type": "code",
      "source": [
        "class RegularPolygon:\n",
        "  def __init__(self,side):\n",
        "    self._side=side\n",
        "class Square(RegularPolygon):\n",
        "  def area(self):\n",
        "    return self._side*self._side\n",
        "class EquilateralTriangle(RegularPolygon):\n",
        "  def area(self):\n",
        "    return self._side*self._side*0.433\n",
        "\n",
        "square=Square(4)\n",
        "print(square.area())\n",
        "equiltriangle=EquilateralTriangle(4)\n",
        "print(equiltriangle.area())"
      ],
      "metadata": {
        "colab": {
          "base_uri": "https://localhost:8080/"
        },
        "id": "04nHmZGqhE0j",
        "outputId": "adeb2af8-af1c-408a-cc6c-b1d8730e309b"
      },
      "execution_count": 37,
      "outputs": [
        {
          "output_type": "stream",
          "name": "stdout",
          "text": [
            "16\n",
            "6.928\n"
          ]
        }
      ]
    },
    {
      "cell_type": "markdown",
      "source": [
        "Encapsulation using Mangling (double__undersocre)"
      ],
      "metadata": {
        "id": "dxShh8crmcO1"
      }
    },
    {
      "cell_type": "code",
      "source": [
        "class RegularPolygon:\n",
        "  def __init__(self,side):\n",
        "    self.__side=side\n",
        "  def area(self):\n",
        "    print(self.__*self.__side)\n",
        "class square(RegularPolygon):\n",
        "  pass\n",
        "\n",
        "square = square(4)\n",
        "square.area()"
      ],
      "metadata": {
        "id": "ak4wEkME3gWL"
      },
      "execution_count": null,
      "outputs": []
    },
    {
      "cell_type": "markdown",
      "source": [
        "Application 1"
      ],
      "metadata": {
        "id": "QMdXHXpBtO7F"
      }
    },
    {
      "cell_type": "code",
      "source": [
        "class Student:\n",
        "  def __init__(self,pre, mid, fin):\n",
        "    self.__pre=pre\n",
        "    self.__mid=mid\n",
        "    self.__fin=fin\n",
        "  def Grade(self):\n",
        "    return(self.__pre+self.__mid+self.__pre)/3\n",
        "class std1(Student):\n",
        "  pass\n",
        "class std2(Student):\n",
        "  pass\n",
        "class std3(Student):\n",
        "  pass\n",
        "\n",
        "In=std1(91,75,86)\n",
        "print(\"In grade is:\",In.Grade())\n",
        "Ph=std2(90,80,91)\n",
        "print(\"Ph grade is:\",Ph.Grade())\n",
        "Cb=std3(76,81,92)\n",
        "print(\"Cb grade is:\",Cb.Grade())"
      ],
      "metadata": {
        "colab": {
          "base_uri": "https://localhost:8080/"
        },
        "id": "v3F00h86tPSs",
        "outputId": "57686e8d-473c-446d-8665-e11d239a1e49"
      },
      "execution_count": 77,
      "outputs": [
        {
          "output_type": "stream",
          "name": "stdout",
          "text": [
            "In grade is: 85.66666666666667\n",
            "Ph grade is: 86.66666666666667\n",
            "Cb grade is: 77.66666666666667\n"
          ]
        }
      ]
    }
  ]
}