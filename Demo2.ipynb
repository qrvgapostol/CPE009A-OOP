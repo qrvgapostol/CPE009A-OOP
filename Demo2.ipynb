{
  "nbformat": 4,
  "nbformat_minor": 0,
  "metadata": {
    "colab": {
      "provenance": [],
      "authorship_tag": "ABX9TyNpFblqY9tbsurdTV8pdWVu",
      "include_colab_link": true
    },
    "kernelspec": {
      "name": "python3",
      "display_name": "Python 3"
    },
    "language_info": {
      "name": "python"
    }
  },
  "cells": [
    {
      "cell_type": "markdown",
      "metadata": {
        "id": "view-in-github",
        "colab_type": "text"
      },
      "source": [
        "<a href=\"https://colab.research.google.com/github/qrvgapostol/CPE009A-OOP/blob/main/Demo2.ipynb\" target=\"_parent\"><img src=\"https://colab.research.google.com/assets/colab-badge.svg\" alt=\"Open In Colab\"/></a>"
      ]
    },
    {
      "cell_type": "code",
      "execution_count": null,
      "metadata": {
        "id": "EPB-DbJWMjLT"
      },
      "outputs": [],
      "source": []
    },
    {
      "cell_type": "code",
      "source": [
        "num1=50\n",
        "num2=50\n",
        "num3=50\n",
        "ave=sum/3\n",
        "sum=num1+num2+num3\n",
        "\n",
        "print(sum)\n",
        "print(ave)"
      ],
      "metadata": {
        "colab": {
          "base_uri": "https://localhost:8080/"
        },
        "id": "5goy2ry-Mk65",
        "outputId": "7a9ee884-5cdc-468c-9f04-fff91b04cd27"
      },
      "execution_count": 4,
      "outputs": [
        {
          "output_type": "stream",
          "name": "stdout",
          "text": [
            "150\n",
            "0.0\n"
          ]
        }
      ]
    },
    {
      "cell_type": "code",
      "source": [
        "print(\"Input three grades\")\n",
        "num1=input()\n",
        "num2=input()\n",
        "num3=input()\n",
        "average=(int(num1)+int(num2)+int(num3))/3\n",
        "print(average)"
      ],
      "metadata": {
        "colab": {
          "base_uri": "https://localhost:8080/"
        },
        "id": "g6QcIONxPnc4",
        "outputId": "ea4ef11c-0b33-4ad7-ef2b-74463fe14fef"
      },
      "execution_count": 13,
      "outputs": [
        {
          "output_type": "stream",
          "name": "stdout",
          "text": [
            "Input three grades\n",
            "50\n",
            "50\n",
            "50\n",
            "50.0\n"
          ]
        }
      ]
    }
  ]
}