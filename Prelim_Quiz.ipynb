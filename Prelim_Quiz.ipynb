{
  "nbformat": 4,
  "nbformat_minor": 0,
  "metadata": {
    "colab": {
      "provenance": [],
      "authorship_tag": "ABX9TyNdWt4RDercvhK7VZ4tzjLa",
      "include_colab_link": true
    },
    "kernelspec": {
      "name": "python3",
      "display_name": "Python 3"
    },
    "language_info": {
      "name": "python"
    }
  },
  "cells": [
    {
      "cell_type": "markdown",
      "metadata": {
        "id": "view-in-github",
        "colab_type": "text"
      },
      "source": [
        "<a href=\"https://colab.research.google.com/github/qrvgapostol/CPE009A-OOP/blob/main/Prelim_Quiz.ipynb\" target=\"_parent\"><img src=\"https://colab.research.google.com/assets/colab-badge.svg\" alt=\"Open In Colab\"/></a>"
      ]
    },
    {
      "cell_type": "code",
      "execution_count": null,
      "metadata": {
        "id": "brBAeXw6SiYB"
      },
      "outputs": [],
      "source": []
    },
    {
      "cell_type": "markdown",
      "source": [
        "https://lucid.app/lucidchart/660ad233-2ff7-4f44-a030-be492032a91f/edit?viewport_loc=-2467%2C-149%2C5293%2C2712%2C0_0&invitationId=inv_bf0e77ff-d590-419c-a604-b318b9b19829"
      ],
      "metadata": {
        "id": "uPH-gwrESml0"
      }
    },
    {
      "cell_type": "code",
      "source": [
        "n=20\n",
        "totalnumbers=n\n",
        "sum=0\n",
        "average=0\n",
        "\n",
        "while n>=0:\n",
        "  sum +=n\n",
        "  n -=1\n",
        "\n",
        "print(\"Sum:\",sum)\n",
        "\n",
        "average=sum/totalnumbers\n",
        "print(\"Average:\",average)"
      ],
      "metadata": {
        "colab": {
          "base_uri": "https://localhost:8080/"
        },
        "id": "UBUZCC1yTjz8",
        "outputId": "ec0a3b7d-754f-479e-be25-3dae70ee451b"
      },
      "execution_count": 18,
      "outputs": [
        {
          "output_type": "stream",
          "name": "stdout",
          "text": [
            "Sum: 210\n",
            "Average: 10.5\n"
          ]
        }
      ]
    }
  ]
}